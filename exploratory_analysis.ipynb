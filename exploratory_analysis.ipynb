{
 "cells": [
  {
   "cell_type": "code",
   "execution_count": 1,
   "metadata": {},
   "outputs": [],
   "source": [
    "import pandas as pd\n",
    "from utils import trimmed_mean,trimmed_std,mad\n"
   ]
  },
  {
   "cell_type": "code",
   "execution_count": 2,
   "metadata": {},
   "outputs": [],
   "source": [
    "## read data\n",
    "data_path = \"./data/titanic_data.csv\"\n",
    "titanic_df = pd.read_csv(data_path)"
   ]
  },
  {
   "cell_type": "code",
   "execution_count": 3,
   "metadata": {},
   "outputs": [
    {
     "data": {
      "text/html": [
       "<div>\n",
       "<style scoped>\n",
       "    .dataframe tbody tr th:only-of-type {\n",
       "        vertical-align: middle;\n",
       "    }\n",
       "\n",
       "    .dataframe tbody tr th {\n",
       "        vertical-align: top;\n",
       "    }\n",
       "\n",
       "    .dataframe thead th {\n",
       "        text-align: right;\n",
       "    }\n",
       "</style>\n",
       "<table border=\"1\" class=\"dataframe\">\n",
       "  <thead>\n",
       "    <tr style=\"text-align: right;\">\n",
       "      <th></th>\n",
       "      <th>PassengerId</th>\n",
       "      <th>Survived</th>\n",
       "      <th>Pclass</th>\n",
       "      <th>Name</th>\n",
       "      <th>Sex</th>\n",
       "      <th>Age</th>\n",
       "      <th>SibSp</th>\n",
       "      <th>Parch</th>\n",
       "      <th>Ticket</th>\n",
       "      <th>Fare</th>\n",
       "      <th>Cabin</th>\n",
       "      <th>Embarked</th>\n",
       "    </tr>\n",
       "  </thead>\n",
       "  <tbody>\n",
       "    <tr>\n",
       "      <th>1722</th>\n",
       "      <td>1305</td>\n",
       "      <td>NaN</td>\n",
       "      <td>3.0</td>\n",
       "      <td>Spector, Mr. Woolf</td>\n",
       "      <td>male</td>\n",
       "      <td>NaN</td>\n",
       "      <td>0.0</td>\n",
       "      <td>0.0</td>\n",
       "      <td>A.5. 3236</td>\n",
       "      <td>8.0500</td>\n",
       "      <td>NaN</td>\n",
       "      <td>S</td>\n",
       "    </tr>\n",
       "    <tr>\n",
       "      <th>1723</th>\n",
       "      <td>1306</td>\n",
       "      <td>NaN</td>\n",
       "      <td>1.0</td>\n",
       "      <td>Oliva y Ocana, Dona. Fermina</td>\n",
       "      <td>female</td>\n",
       "      <td>39.0</td>\n",
       "      <td>0.0</td>\n",
       "      <td>0.0</td>\n",
       "      <td>PC 17758</td>\n",
       "      <td>108.9000</td>\n",
       "      <td>C105</td>\n",
       "      <td>C</td>\n",
       "    </tr>\n",
       "    <tr>\n",
       "      <th>1724</th>\n",
       "      <td>1307</td>\n",
       "      <td>NaN</td>\n",
       "      <td>3.0</td>\n",
       "      <td>Saether, Mr. Simon Sivertsen</td>\n",
       "      <td>male</td>\n",
       "      <td>38.5</td>\n",
       "      <td>0.0</td>\n",
       "      <td>0.0</td>\n",
       "      <td>SOTON/O.Q. 3101262</td>\n",
       "      <td>7.2500</td>\n",
       "      <td>NaN</td>\n",
       "      <td>S</td>\n",
       "    </tr>\n",
       "    <tr>\n",
       "      <th>1725</th>\n",
       "      <td>1308</td>\n",
       "      <td>NaN</td>\n",
       "      <td>3.0</td>\n",
       "      <td>Ware, Mr. Frederick</td>\n",
       "      <td>male</td>\n",
       "      <td>NaN</td>\n",
       "      <td>0.0</td>\n",
       "      <td>0.0</td>\n",
       "      <td>359309</td>\n",
       "      <td>8.0500</td>\n",
       "      <td>NaN</td>\n",
       "      <td>S</td>\n",
       "    </tr>\n",
       "    <tr>\n",
       "      <th>1726</th>\n",
       "      <td>1309</td>\n",
       "      <td>NaN</td>\n",
       "      <td>3.0</td>\n",
       "      <td>Peter, Master. Michael J</td>\n",
       "      <td>male</td>\n",
       "      <td>NaN</td>\n",
       "      <td>1.0</td>\n",
       "      <td>1.0</td>\n",
       "      <td>2668</td>\n",
       "      <td>22.3583</td>\n",
       "      <td>NaN</td>\n",
       "      <td>C</td>\n",
       "    </tr>\n",
       "  </tbody>\n",
       "</table>\n",
       "</div>"
      ],
      "text/plain": [
       "      PassengerId  Survived  Pclass                          Name     Sex  \\\n",
       "1722         1305       NaN     3.0            Spector, Mr. Woolf    male   \n",
       "1723         1306       NaN     1.0  Oliva y Ocana, Dona. Fermina  female   \n",
       "1724         1307       NaN     3.0  Saether, Mr. Simon Sivertsen    male   \n",
       "1725         1308       NaN     3.0           Ware, Mr. Frederick    male   \n",
       "1726         1309       NaN     3.0      Peter, Master. Michael J    male   \n",
       "\n",
       "       Age  SibSp  Parch              Ticket      Fare Cabin Embarked  \n",
       "1722   NaN    0.0    0.0           A.5. 3236    8.0500   NaN        S  \n",
       "1723  39.0    0.0    0.0            PC 17758  108.9000  C105        C  \n",
       "1724  38.5    0.0    0.0  SOTON/O.Q. 3101262    7.2500   NaN        S  \n",
       "1725   NaN    0.0    0.0              359309    8.0500   NaN        S  \n",
       "1726   NaN    1.0    1.0                2668   22.3583   NaN        C  "
      ]
     },
     "execution_count": 3,
     "metadata": {},
     "output_type": "execute_result"
    }
   ],
   "source": [
    "## look at the tail of data frame\n",
    "titanic_df.tail()"
   ]
  },
  {
   "cell_type": "code",
   "execution_count": 4,
   "metadata": {},
   "outputs": [
    {
     "name": "stdout",
     "output_type": "stream",
     "text": [
      "The mean age of passengers is 29.881137667304014\n",
      "The std age of passengers is 14.413493211271334\n",
      "#####################################################################\n",
      "The mean fare of passengers is 33.2954792813456\n",
      "The std fare of passengers is 51.75866823917414\n"
     ]
    }
   ],
   "source": [
    "## Not robust mean and standard deviation\n",
    "print(\"The mean age of passengers is {}\".format(titanic_df[\"Age\"].mean()))\n",
    "print(\"The std age of passengers is {}\".format(titanic_df[\"Age\"].std()))\n",
    "print(\"#####################################################################\")\n",
    "print(\"The mean fare of passengers is {}\".format(titanic_df[\"Fare\"].mean()))\n",
    "print(\"The std fare of passengers is {}\".format(titanic_df[\"Fare\"].std()))"
   ]
  },
  {
   "cell_type": "code",
   "execution_count": 5,
   "metadata": {},
   "outputs": [
    {
     "name": "stdout",
     "output_type": "stream",
     "text": [
      "The trimmed mean age of passengers is 29.366188769414578\n",
      "The median age of passengers is 28.0\n",
      "The MAD age of passengers is 8.0\n",
      "The trimmed std age of passengers is 9.00325653086125\n",
      "#####################################################################\n",
      "The trimmed mean age of passengers is 21.520243361986573\n",
      "The median fare of passengers is 14.4542\n",
      "The MAD fare of passengers is 6.9042\n",
      "The trimmed std age of passengers is 17.087503259717963\n"
     ]
    }
   ],
   "source": [
    "## For questions of robustness, lets analyse the trimmed mean, median, and MAD\n",
    "print(\"The trimmed mean age of passengers is {}\".format(trimmed_mean(titanic_df[\"Age\"].values,10)))\n",
    "print(\"The median age of passengers is {}\".format(titanic_df[\"Age\"].median()))\n",
    "print(\"The MAD age of passengers is {}\".format(mad(titanic_df[\"Age\"].values)))\n",
    "print(\"The trimmed std age of passengers is {}\".format(trimmed_std(titanic_df[\"Age\"].values,10)))\n",
    "print(\"#####################################################################\")\n",
    "print(\"The trimmed mean age of passengers is {}\".format(trimmed_mean(titanic_df[\"Fare\"].values,10)))\n",
    "print(\"The median fare of passengers is {}\".format(titanic_df[\"Fare\"].median()))\n",
    "print(\"The MAD fare of passengers is {}\".format(mad(titanic_df[\"Fare\"].values)))\n",
    "print(\"The trimmed std age of passengers is {}\".format(trimmed_std(titanic_df[\"Fare\"].values,10)))\n"
   ]
  },
  {
   "cell_type": "code",
   "execution_count": null,
   "metadata": {},
   "outputs": [],
   "source": []
  }
 ],
 "metadata": {
  "kernelspec": {
   "display_name": "Python 3",
   "language": "python",
   "name": "python3"
  },
  "language_info": {
   "codemirror_mode": {
    "name": "ipython",
    "version": 3
   },
   "file_extension": ".py",
   "mimetype": "text/x-python",
   "name": "python",
   "nbconvert_exporter": "python",
   "pygments_lexer": "ipython3",
   "version": "3.8.3"
  }
 },
 "nbformat": 4,
 "nbformat_minor": 4
}
